{
 "cells": [
  {
   "cell_type": "markdown",
   "metadata": {},
   "source": [
    "# Traffic Ticket Quotas in Seattle\n",
    "## Agustin Lew\n",
    "## 12/10/2019\n",
    "## HCDE512"
   ]
  },
  {
   "cell_type": "markdown",
   "metadata": {},
   "source": [
    "### Import required libraries"
   ]
  },
  {
   "cell_type": "code",
   "execution_count": 1,
   "metadata": {},
   "outputs": [],
   "source": [
    "from IPython.core.interactiveshell import InteractiveShell\n",
    "InteractiveShell.ast_node_interactivity = \"all\"\n",
    "%matplotlib inline\n",
    "import numpy as np\n",
    "import pandas as pd\n",
    "import matplotlib.pyplot as plt\n",
    "import matplotlib\n",
    "import geopy\n",
    "import geopy.distance\n",
    "import gmplot"
   ]
  },
  {
   "cell_type": "markdown",
   "metadata": {},
   "source": [
    "### Load data from the raw_data folder "
   ]
  },
  {
   "cell_type": "code",
   "execution_count": 2,
   "metadata": {},
   "outputs": [
    {
     "data": {
      "text/plain": [
       "'/home/ablew/hcde512/hw/final-project/src'"
      ]
     },
     "execution_count": 2,
     "metadata": {},
     "output_type": "execute_result"
    }
   ],
   "source": [
    "%pwd"
   ]
  },
  {
   "cell_type": "code",
   "execution_count": 3,
   "metadata": {},
   "outputs": [
    {
     "name": "stdout",
     "output_type": "stream",
     "text": [
      "/home/ablew/hcde512/hw/final-project\n"
     ]
    }
   ],
   "source": [
    "%cd .."
   ]
  },
  {
   "cell_type": "code",
   "execution_count": 4,
   "metadata": {
    "scrolled": true
   },
   "outputs": [],
   "source": [
    "home_directory = %pwd"
   ]
  },
  {
   "cell_type": "code",
   "execution_count": 5,
   "metadata": {},
   "outputs": [
    {
     "name": "stdout",
     "output_type": "stream",
     "text": [
      "/home/ablew/hcde512/hw/final-project/src\n"
     ]
    }
   ],
   "source": [
    "%cd src"
   ]
  },
  {
   "cell_type": "code",
   "execution_count": 6,
   "metadata": {
    "scrolled": true
   },
   "outputs": [
    {
     "name": "stderr",
     "output_type": "stream",
     "text": [
      "/home/ablew/anaconda3/lib/python3.7/site-packages/IPython/core/interactiveshell.py:3049: DtypeWarning: Columns (10,11,20,21,22,23,26) have mixed types. Specify dtype option on import or set low_memory=False.\n",
      "  interactivity=interactivity, compiler=compiler, result=result)\n"
     ]
    },
    {
     "data": {
      "text/html": [
       "<div>\n",
       "<style scoped>\n",
       "    .dataframe tbody tr th:only-of-type {\n",
       "        vertical-align: middle;\n",
       "    }\n",
       "\n",
       "    .dataframe tbody tr th {\n",
       "        vertical-align: top;\n",
       "    }\n",
       "\n",
       "    .dataframe thead th {\n",
       "        text-align: right;\n",
       "    }\n",
       "</style>\n",
       "<table border=\"1\" class=\"dataframe\">\n",
       "  <thead>\n",
       "    <tr style=\"text-align: right;\">\n",
       "      <th></th>\n",
       "      <th>raw_row_number</th>\n",
       "      <th>date</th>\n",
       "      <th>time</th>\n",
       "      <th>location</th>\n",
       "      <th>lat</th>\n",
       "      <th>lng</th>\n",
       "      <th>beat</th>\n",
       "      <th>precinct</th>\n",
       "      <th>sector</th>\n",
       "      <th>subject_age</th>\n",
       "      <th>...</th>\n",
       "      <th>citation_issued</th>\n",
       "      <th>warning_issued</th>\n",
       "      <th>outcome</th>\n",
       "      <th>vehicle_color</th>\n",
       "      <th>vehicle_make</th>\n",
       "      <th>vehicle_model</th>\n",
       "      <th>vehicle_registration_state</th>\n",
       "      <th>vehicle_year</th>\n",
       "      <th>raw_type_description</th>\n",
       "      <th>raw_vehicle_description</th>\n",
       "    </tr>\n",
       "  </thead>\n",
       "  <tbody>\n",
       "    <tr>\n",
       "      <th>0</th>\n",
       "      <td>1</td>\n",
       "      <td>2006-01-01</td>\n",
       "      <td>02:19:37</td>\n",
       "      <td>15 NE/NE 50</td>\n",
       "      <td>47.664980</td>\n",
       "      <td>-122.327990</td>\n",
       "      <td>B3</td>\n",
       "      <td>N</td>\n",
       "      <td>B</td>\n",
       "      <td>20.0</td>\n",
       "      <td>...</td>\n",
       "      <td>False</td>\n",
       "      <td>False</td>\n",
       "      <td>arrest</td>\n",
       "      <td>NaN</td>\n",
       "      <td>NaN</td>\n",
       "      <td>NaN</td>\n",
       "      <td>NaN</td>\n",
       "      <td>NaN</td>\n",
       "      <td>NaN</td>\n",
       "      <td>NaN</td>\n",
       "    </tr>\n",
       "    <tr>\n",
       "      <th>1</th>\n",
       "      <td>2</td>\n",
       "      <td>2006-01-02</td>\n",
       "      <td>02:23:42</td>\n",
       "      <td>1100-blk E CHERRY</td>\n",
       "      <td>47.607213</td>\n",
       "      <td>-122.323142</td>\n",
       "      <td>E3</td>\n",
       "      <td>E</td>\n",
       "      <td>E</td>\n",
       "      <td>NaN</td>\n",
       "      <td>...</td>\n",
       "      <td>False</td>\n",
       "      <td>False</td>\n",
       "      <td>arrest</td>\n",
       "      <td>NaN</td>\n",
       "      <td>NaN</td>\n",
       "      <td>NaN</td>\n",
       "      <td>NaN</td>\n",
       "      <td>NaN</td>\n",
       "      <td>TRAFFIC - MOVING VIOLATION</td>\n",
       "      <td>NaN</td>\n",
       "    </tr>\n",
       "    <tr>\n",
       "      <th>2</th>\n",
       "      <td>3</td>\n",
       "      <td>2006-01-02</td>\n",
       "      <td>04:16:42</td>\n",
       "      <td>5000-blk SW HINDS ST</td>\n",
       "      <td>47.573903</td>\n",
       "      <td>-122.396095</td>\n",
       "      <td>W1</td>\n",
       "      <td>SW</td>\n",
       "      <td>W</td>\n",
       "      <td>NaN</td>\n",
       "      <td>...</td>\n",
       "      <td>False</td>\n",
       "      <td>False</td>\n",
       "      <td>arrest</td>\n",
       "      <td>NaN</td>\n",
       "      <td>NaN</td>\n",
       "      <td>NaN</td>\n",
       "      <td>NaN</td>\n",
       "      <td>NaN</td>\n",
       "      <td>NaN</td>\n",
       "      <td>NaN</td>\n",
       "    </tr>\n",
       "    <tr>\n",
       "      <th>3</th>\n",
       "      <td>4</td>\n",
       "      <td>2006-01-03</td>\n",
       "      <td>01:08:48</td>\n",
       "      <td>100 PINE #BLK</td>\n",
       "      <td>47.609824</td>\n",
       "      <td>-122.340936</td>\n",
       "      <td>M1</td>\n",
       "      <td>W</td>\n",
       "      <td>M</td>\n",
       "      <td>NaN</td>\n",
       "      <td>...</td>\n",
       "      <td>False</td>\n",
       "      <td>False</td>\n",
       "      <td>arrest</td>\n",
       "      <td>NaN</td>\n",
       "      <td>NaN</td>\n",
       "      <td>NaN</td>\n",
       "      <td>NaN</td>\n",
       "      <td>NaN</td>\n",
       "      <td>TRAFFIC STOP - OFFICER INITIATED ONVIEW</td>\n",
       "      <td>NaN</td>\n",
       "    </tr>\n",
       "    <tr>\n",
       "      <th>4</th>\n",
       "      <td>5</td>\n",
       "      <td>2006-01-06</td>\n",
       "      <td>21:41:34</td>\n",
       "      <td>DENNY WY/DEXTER AV</td>\n",
       "      <td>47.618942</td>\n",
       "      <td>-122.342300</td>\n",
       "      <td>D2</td>\n",
       "      <td>W</td>\n",
       "      <td>D</td>\n",
       "      <td>NaN</td>\n",
       "      <td>...</td>\n",
       "      <td>False</td>\n",
       "      <td>False</td>\n",
       "      <td>arrest</td>\n",
       "      <td>NaN</td>\n",
       "      <td>NaN</td>\n",
       "      <td>NaN</td>\n",
       "      <td>NaN</td>\n",
       "      <td>NaN</td>\n",
       "      <td>NaN</td>\n",
       "      <td>NaN</td>\n",
       "    </tr>\n",
       "  </tbody>\n",
       "</table>\n",
       "<p>5 rows × 27 columns</p>\n",
       "</div>"
      ],
      "text/plain": [
       "   raw_row_number        date      time              location        lat  \\\n",
       "0               1  2006-01-01  02:19:37           15 NE/NE 50  47.664980   \n",
       "1               2  2006-01-02  02:23:42     1100-blk E CHERRY  47.607213   \n",
       "2               3  2006-01-02  04:16:42  5000-blk SW HINDS ST  47.573903   \n",
       "3               4  2006-01-03  01:08:48         100 PINE #BLK  47.609824   \n",
       "4               5  2006-01-06  21:41:34    DENNY WY/DEXTER AV  47.618942   \n",
       "\n",
       "          lng beat precinct sector  subject_age  ... citation_issued  \\\n",
       "0 -122.327990   B3        N      B         20.0  ...           False   \n",
       "1 -122.323142   E3        E      E          NaN  ...           False   \n",
       "2 -122.396095   W1       SW      W          NaN  ...           False   \n",
       "3 -122.340936   M1        W      M          NaN  ...           False   \n",
       "4 -122.342300   D2        W      D          NaN  ...           False   \n",
       "\n",
       "  warning_issued outcome vehicle_color vehicle_make vehicle_model  \\\n",
       "0          False  arrest           NaN          NaN           NaN   \n",
       "1          False  arrest           NaN          NaN           NaN   \n",
       "2          False  arrest           NaN          NaN           NaN   \n",
       "3          False  arrest           NaN          NaN           NaN   \n",
       "4          False  arrest           NaN          NaN           NaN   \n",
       "\n",
       "   vehicle_registration_state  vehicle_year  \\\n",
       "0                         NaN           NaN   \n",
       "1                         NaN           NaN   \n",
       "2                         NaN           NaN   \n",
       "3                         NaN           NaN   \n",
       "4                         NaN           NaN   \n",
       "\n",
       "                      raw_type_description raw_vehicle_description  \n",
       "0                                      NaN                     NaN  \n",
       "1               TRAFFIC - MOVING VIOLATION                     NaN  \n",
       "2                                      NaN                     NaN  \n",
       "3  TRAFFIC STOP - OFFICER INITIATED ONVIEW                     NaN  \n",
       "4                                      NaN                     NaN  \n",
       "\n",
       "[5 rows x 27 columns]"
      ]
     },
     "execution_count": 6,
     "metadata": {},
     "output_type": "execute_result"
    }
   ],
   "source": [
    "df_seattle = pd.read_csv(home_directory + '/raw_data/wa_seattle_2019_08_13.csv')\n",
    "df_seattle.head()"
   ]
  },
  {
   "cell_type": "markdown",
   "metadata": {},
   "source": [
    "### Information on raw data"
   ]
  },
  {
   "cell_type": "code",
   "execution_count": 7,
   "metadata": {},
   "outputs": [
    {
     "name": "stdout",
     "output_type": "stream",
     "text": [
      "The raw dataframe has 319959 rows and 27 columns.\n"
     ]
    }
   ],
   "source": [
    "print(\"The raw dataframe has \" + str(len(df_seattle)) + \" rows and \" + str(len(df_seattle.columns)) + \" columns.\")"
   ]
  },
  {
   "cell_type": "code",
   "execution_count": 8,
   "metadata": {},
   "outputs": [
    {
     "name": "stdout",
     "output_type": "stream",
     "text": [
      "The dataset has 1652 unique officers.\n"
     ]
    }
   ],
   "source": [
    "print(\"The dataset has \" + str(df_seattle.officer_id_hash.nunique()) + \" unique officers.\")"
   ]
  },
  {
   "cell_type": "markdown",
   "metadata": {},
   "source": [
    "##### Column names and types"
   ]
  },
  {
   "cell_type": "code",
   "execution_count": 9,
   "metadata": {},
   "outputs": [
    {
     "data": {
      "text/plain": [
       "raw_row_number                  int64\n",
       "date                           object\n",
       "time                           object\n",
       "location                       object\n",
       "lat                           float64\n",
       "lng                           float64\n",
       "beat                           object\n",
       "precinct                       object\n",
       "sector                         object\n",
       "subject_age                   float64\n",
       "subject_race                   object\n",
       "subject_sex                    object\n",
       "officer_id_hash                object\n",
       "type                           object\n",
       "disposition                    object\n",
       "violation                      object\n",
       "arrest_made                      bool\n",
       "citation_issued                  bool\n",
       "warning_issued                   bool\n",
       "outcome                        object\n",
       "vehicle_color                  object\n",
       "vehicle_make                   object\n",
       "vehicle_model                  object\n",
       "vehicle_registration_state     object\n",
       "vehicle_year                  float64\n",
       "raw_type_description           object\n",
       "raw_vehicle_description        object\n",
       "dtype: object"
      ]
     },
     "execution_count": 9,
     "metadata": {},
     "output_type": "execute_result"
    }
   ],
   "source": [
    "df_seattle.dtypes"
   ]
  },
  {
   "cell_type": "markdown",
   "metadata": {},
   "source": [
    "### Data cleaning\n",
    "* Removed missing values for the columns 'officer_id_hash', 'date', 'time', 'lat'\n",
    "* Changed date and time columns to pandas datetime type\n",
    "* Included only records newer than 2013-01-01\n",
    "* Included only vehicular traffic stops\n",
    "* Selected columns: date, time, lat, lng, officer_id_hash, type, citation_issued, warning_issued, outcome, raw_type_description"
   ]
  },
  {
   "cell_type": "code",
   "execution_count": 10,
   "metadata": {},
   "outputs": [
    {
     "data": {
      "text/html": [
       "<div>\n",
       "<style scoped>\n",
       "    .dataframe tbody tr th:only-of-type {\n",
       "        vertical-align: middle;\n",
       "    }\n",
       "\n",
       "    .dataframe tbody tr th {\n",
       "        vertical-align: top;\n",
       "    }\n",
       "\n",
       "    .dataframe thead th {\n",
       "        text-align: right;\n",
       "    }\n",
       "</style>\n",
       "<table border=\"1\" class=\"dataframe\">\n",
       "  <thead>\n",
       "    <tr style=\"text-align: right;\">\n",
       "      <th></th>\n",
       "      <th>date</th>\n",
       "      <th>time</th>\n",
       "      <th>lat</th>\n",
       "      <th>lng</th>\n",
       "      <th>officer_id_hash</th>\n",
       "      <th>type</th>\n",
       "      <th>citation_issued</th>\n",
       "      <th>warning_issued</th>\n",
       "      <th>outcome</th>\n",
       "      <th>raw_type_description</th>\n",
       "    </tr>\n",
       "  </thead>\n",
       "  <tbody>\n",
       "    <tr>\n",
       "      <th>248923</th>\n",
       "      <td>2013-01-01</td>\n",
       "      <td>1900-01-01 00:19:56</td>\n",
       "      <td>47.571433</td>\n",
       "      <td>-122.370755</td>\n",
       "      <td>b5dfc2c7ff</td>\n",
       "      <td>vehicular</td>\n",
       "      <td>False</td>\n",
       "      <td>False</td>\n",
       "      <td>arrest</td>\n",
       "      <td>ACC - UNK INJURIES</td>\n",
       "    </tr>\n",
       "    <tr>\n",
       "      <th>248924</th>\n",
       "      <td>2013-01-01</td>\n",
       "      <td>1900-01-01 02:05:48</td>\n",
       "      <td>47.692751</td>\n",
       "      <td>-122.347215</td>\n",
       "      <td>03ca5504a2</td>\n",
       "      <td>vehicular</td>\n",
       "      <td>False</td>\n",
       "      <td>False</td>\n",
       "      <td>arrest</td>\n",
       "      <td>ACC - WITH INJURIES (INCLUDES HIT AND RUN)</td>\n",
       "    </tr>\n",
       "    <tr>\n",
       "      <th>248925</th>\n",
       "      <td>2013-01-01</td>\n",
       "      <td>1900-01-01 15:14:15</td>\n",
       "      <td>47.616647</td>\n",
       "      <td>-122.327905</td>\n",
       "      <td>c926914e64</td>\n",
       "      <td>vehicular</td>\n",
       "      <td>False</td>\n",
       "      <td>False</td>\n",
       "      <td>arrest</td>\n",
       "      <td>NUISANCE - MISCHIEF</td>\n",
       "    </tr>\n",
       "    <tr>\n",
       "      <th>248926</th>\n",
       "      <td>2013-01-02</td>\n",
       "      <td>1900-01-01 01:15:44</td>\n",
       "      <td>47.717764</td>\n",
       "      <td>-122.296216</td>\n",
       "      <td>9ca54e4bf2</td>\n",
       "      <td>vehicular</td>\n",
       "      <td>False</td>\n",
       "      <td>False</td>\n",
       "      <td>arrest</td>\n",
       "      <td>TRAFFIC STOP - OFFICER INITIATED ONVIEW</td>\n",
       "    </tr>\n",
       "    <tr>\n",
       "      <th>248927</th>\n",
       "      <td>2013-01-04</td>\n",
       "      <td>1900-01-01 03:47:25</td>\n",
       "      <td>47.609752</td>\n",
       "      <td>-122.337784</td>\n",
       "      <td>a5f30e4f10</td>\n",
       "      <td>vehicular</td>\n",
       "      <td>False</td>\n",
       "      <td>False</td>\n",
       "      <td>arrest</td>\n",
       "      <td>SUSPICIOUS PERSON, VEHICLE OR INCIDENT</td>\n",
       "    </tr>\n",
       "  </tbody>\n",
       "</table>\n",
       "</div>"
      ],
      "text/plain": [
       "             date                time        lat         lng officer_id_hash  \\\n",
       "248923 2013-01-01 1900-01-01 00:19:56  47.571433 -122.370755      b5dfc2c7ff   \n",
       "248924 2013-01-01 1900-01-01 02:05:48  47.692751 -122.347215      03ca5504a2   \n",
       "248925 2013-01-01 1900-01-01 15:14:15  47.616647 -122.327905      c926914e64   \n",
       "248926 2013-01-02 1900-01-01 01:15:44  47.717764 -122.296216      9ca54e4bf2   \n",
       "248927 2013-01-04 1900-01-01 03:47:25  47.609752 -122.337784      a5f30e4f10   \n",
       "\n",
       "             type  citation_issued  warning_issued outcome  \\\n",
       "248923  vehicular            False           False  arrest   \n",
       "248924  vehicular            False           False  arrest   \n",
       "248925  vehicular            False           False  arrest   \n",
       "248926  vehicular            False           False  arrest   \n",
       "248927  vehicular            False           False  arrest   \n",
       "\n",
       "                              raw_type_description  \n",
       "248923                          ACC - UNK INJURIES  \n",
       "248924  ACC - WITH INJURIES (INCLUDES HIT AND RUN)  \n",
       "248925                         NUISANCE - MISCHIEF  \n",
       "248926     TRAFFIC STOP - OFFICER INITIATED ONVIEW  \n",
       "248927      SUSPICIOUS PERSON, VEHICLE OR INCIDENT  "
      ]
     },
     "execution_count": 10,
     "metadata": {},
     "output_type": "execute_result"
    }
   ],
   "source": [
    "df_seattle = df_seattle[~df_seattle.officer_id_hash.isna()]\n",
    "df_seattle = df_seattle[~df_seattle.time.isna()]\n",
    "df_seattle = df_seattle[~df_seattle.date.isna()]\n",
    "df_seattle = df_seattle[~df_seattle.lat.isna()]\n",
    "df_seattle['date'] = pd.to_datetime(df_seattle['date'], errors='coerce')\n",
    "df_seattle['time'] = pd.to_datetime(df_seattle['time'], format='%H:%M:%S', errors='coerce')\n",
    "df_seattle = df_seattle[df_seattle.date >= '2013-01-01']\n",
    "df_seattle = df_seattle[['date', 'time', 'lat', 'lng', 'officer_id_hash', 'type', 'citation_issued', 'warning_issued', 'outcome', 'raw_type_description']]\n",
    "df_seattle = df_seattle[df_seattle.type == 'vehicular']\n",
    "df_seattle.head()"
   ]
  },
  {
   "cell_type": "markdown",
   "metadata": {},
   "source": [
    "#### Exports clean dataframe to the src folder"
   ]
  },
  {
   "cell_type": "code",
   "execution_count": 11,
   "metadata": {},
   "outputs": [],
   "source": [
    "df_seattle.to_csv(home_directory + '/src/clean_seattle.csv', index=False)"
   ]
  },
  {
   "cell_type": "markdown",
   "metadata": {},
   "source": [
    "#### Precinct coordinates (obtained from Google Maps)\n",
    "* N = North Precinct\n",
    "* S = South Precinct\n",
    "* SW = Southwest Precinct\n",
    "* E = East Precinct\n",
    "* W = West Precinct"
   ]
  },
  {
   "cell_type": "code",
   "execution_count": 12,
   "metadata": {},
   "outputs": [],
   "source": [
    "sw_precinct = (47.536655, -122.361851)\n",
    "s_precinct = (47.538801, -122.293376)\n",
    "w_precinct = (47.616313, -122.336638)\n",
    "e_precinct = (47.615069, -122.317191)\n",
    "n_precinct = (47.703082, -122.334784)"
   ]
  },
  {
   "cell_type": "markdown",
   "metadata": {},
   "source": [
    "#### Creates officers dataframe, one row for each officer, showing the average lat/long coordinates, citation_ratio, warning_ratio, and the distance from their average location to each precinct. \n",
    "#### Each officer was assigned the closest precinct as their precinct."
   ]
  },
  {
   "cell_type": "code",
   "execution_count": 13,
   "metadata": {},
   "outputs": [
    {
     "data": {
      "text/html": [
       "<div>\n",
       "<style scoped>\n",
       "    .dataframe tbody tr th:only-of-type {\n",
       "        vertical-align: middle;\n",
       "    }\n",
       "\n",
       "    .dataframe tbody tr th {\n",
       "        vertical-align: top;\n",
       "    }\n",
       "\n",
       "    .dataframe thead th {\n",
       "        text-align: right;\n",
       "    }\n",
       "</style>\n",
       "<table border=\"1\" class=\"dataframe\">\n",
       "  <thead>\n",
       "    <tr style=\"text-align: right;\">\n",
       "      <th></th>\n",
       "      <th>officer_id_hash</th>\n",
       "      <th>citation_issued</th>\n",
       "      <th>lat</th>\n",
       "      <th>lng</th>\n",
       "      <th>citation_ratio</th>\n",
       "      <th>warning_ratio</th>\n",
       "      <th>S</th>\n",
       "      <th>SW</th>\n",
       "      <th>W</th>\n",
       "      <th>E</th>\n",
       "      <th>N</th>\n",
       "      <th>precinct</th>\n",
       "    </tr>\n",
       "  </thead>\n",
       "  <tbody>\n",
       "    <tr>\n",
       "      <th>0</th>\n",
       "      <td>0065f02af8</td>\n",
       "      <td>0.0</td>\n",
       "      <td>47.597566</td>\n",
       "      <td>-122.315221</td>\n",
       "      <td>0.000000</td>\n",
       "      <td>0.500000</td>\n",
       "      <td>6.737219</td>\n",
       "      <td>7.627208</td>\n",
       "      <td>2.633932</td>\n",
       "      <td>1.951647</td>\n",
       "      <td>11.823331</td>\n",
       "      <td>E</td>\n",
       "    </tr>\n",
       "    <tr>\n",
       "      <th>1</th>\n",
       "      <td>0092ecd6fd</td>\n",
       "      <td>0.0</td>\n",
       "      <td>47.609669</td>\n",
       "      <td>-122.338265</td>\n",
       "      <td>0.000000</td>\n",
       "      <td>0.600000</td>\n",
       "      <td>8.572554</td>\n",
       "      <td>8.309512</td>\n",
       "      <td>0.748789</td>\n",
       "      <td>1.694378</td>\n",
       "      <td>10.389316</td>\n",
       "      <td>W</td>\n",
       "    </tr>\n",
       "    <tr>\n",
       "      <th>2</th>\n",
       "      <td>016606d685</td>\n",
       "      <td>107.0</td>\n",
       "      <td>47.580653</td>\n",
       "      <td>-122.383569</td>\n",
       "      <td>0.264198</td>\n",
       "      <td>0.377778</td>\n",
       "      <td>8.229528</td>\n",
       "      <td>5.157581</td>\n",
       "      <td>5.308081</td>\n",
       "      <td>6.289713</td>\n",
       "      <td>14.097044</td>\n",
       "      <td>SW</td>\n",
       "    </tr>\n",
       "    <tr>\n",
       "      <th>3</th>\n",
       "      <td>01dafbd11b</td>\n",
       "      <td>0.0</td>\n",
       "      <td>47.608271</td>\n",
       "      <td>-122.313620</td>\n",
       "      <td>0.000000</td>\n",
       "      <td>0.000000</td>\n",
       "      <td>7.872566</td>\n",
       "      <td>8.750386</td>\n",
       "      <td>1.947921</td>\n",
       "      <td>0.802090</td>\n",
       "      <td>10.660640</td>\n",
       "      <td>E</td>\n",
       "    </tr>\n",
       "    <tr>\n",
       "      <th>4</th>\n",
       "      <td>02348f8e11</td>\n",
       "      <td>1.0</td>\n",
       "      <td>47.537088</td>\n",
       "      <td>-122.282653</td>\n",
       "      <td>0.500000</td>\n",
       "      <td>0.000000</td>\n",
       "      <td>0.829480</td>\n",
       "      <td>5.963075</td>\n",
       "      <td>9.699642</td>\n",
       "      <td>9.051068</td>\n",
       "      <td>18.867122</td>\n",
       "      <td>S</td>\n",
       "    </tr>\n",
       "  </tbody>\n",
       "</table>\n",
       "</div>"
      ],
      "text/plain": [
       "  officer_id_hash  citation_issued        lat         lng  citation_ratio  \\\n",
       "0      0065f02af8              0.0  47.597566 -122.315221        0.000000   \n",
       "1      0092ecd6fd              0.0  47.609669 -122.338265        0.000000   \n",
       "2      016606d685            107.0  47.580653 -122.383569        0.264198   \n",
       "3      01dafbd11b              0.0  47.608271 -122.313620        0.000000   \n",
       "4      02348f8e11              1.0  47.537088 -122.282653        0.500000   \n",
       "\n",
       "   warning_ratio         S        SW         W         E          N precinct  \n",
       "0       0.500000  6.737219  7.627208  2.633932  1.951647  11.823331        E  \n",
       "1       0.600000  8.572554  8.309512  0.748789  1.694378  10.389316        W  \n",
       "2       0.377778  8.229528  5.157581  5.308081  6.289713  14.097044       SW  \n",
       "3       0.000000  7.872566  8.750386  1.947921  0.802090  10.660640        E  \n",
       "4       0.000000  0.829480  5.963075  9.699642  9.051068  18.867122        S  "
      ]
     },
     "execution_count": 13,
     "metadata": {},
     "output_type": "execute_result"
    }
   ],
   "source": [
    "# Creates officers dataframe and creates additional columns\n",
    "df_officers = df_seattle.groupby(df_seattle.officer_id_hash).sum().citation_issued.reset_index()\n",
    "df_officers['lat'] = df_seattle.groupby(df_seattle.officer_id_hash).mean().reset_index().lat\n",
    "df_officers['lng'] = df_seattle.groupby(df_seattle.officer_id_hash).mean().reset_index().lng\n",
    "df_officers['citation_ratio'] = df_seattle.groupby(df_seattle.officer_id_hash).mean().reset_index().citation_issued\n",
    "df_officers['warning_ratio'] = df_seattle.groupby(df_seattle.officer_id_hash).mean().reset_index().warning_issued\n",
    "\n",
    "# Calculates distance from the average lat/long values to each precinct\n",
    "df_officers['S'] = [geopy.distance.geodesic((df_officers.lat.iloc[i], df_officers.lng.iloc[i]), s_precinct).km for i in range(len(df_officers))]\n",
    "df_officers['SW'] = [geopy.distance.geodesic((df_officers.lat.iloc[i], df_officers.lng.iloc[i]), sw_precinct).km for i in range(len(df_officers))]\n",
    "df_officers['W'] = [geopy.distance.geodesic((df_officers.lat.iloc[i], df_officers.lng.iloc[i]), w_precinct).km for i in range(len(df_officers))]\n",
    "df_officers['E'] = [geopy.distance.geodesic((df_officers.lat.iloc[i], df_officers.lng.iloc[i]), e_precinct).km for i in range(len(df_officers))]\n",
    "df_officers['N'] = [geopy.distance.geodesic((df_officers.lat.iloc[i], df_officers.lng.iloc[i]), n_precinct).km for i in range(len(df_officers))]\n",
    "\n",
    "precinct_names=['S', 'SW', 'W', 'E', 'N']\n",
    "precinct_list = []\n",
    "for i in range(len(df_officers)):\n",
    "    S = df_officers.S.values[i]\n",
    "    SW = df_officers.SW.values[i]\n",
    "    W = df_officers.W.values[i]\n",
    "    E = df_officers.E.values[i]\n",
    "    N = df_officers.N.values[i]\n",
    "    \n",
    "    precinct_ix = np.argmin([S,SW,W,E,N])\n",
    "    precinct_list.append(precinct_names[precinct_ix])\n",
    "    \n",
    "df_officers['precinct'] = precinct_list\n",
    "\n",
    "df_officers.head()"
   ]
  },
  {
   "cell_type": "code",
   "execution_count": 14,
   "metadata": {
    "scrolled": true
   },
   "outputs": [
    {
     "data": {
      "text/plain": [
       "'37.67% of officers have 0 citations issued.'"
      ]
     },
     "execution_count": 14,
     "metadata": {},
     "output_type": "execute_result"
    }
   ],
   "source": [
    "str(round(len(df_officers[df_officers.citation_issued == 0]) / df_officers.officer_id_hash.nunique() * 100, 2)) + \"% of officers have 0 citations issued.\""
   ]
  },
  {
   "cell_type": "markdown",
   "metadata": {},
   "source": [
    "#### Exports officer dataframe to the src folder"
   ]
  },
  {
   "cell_type": "code",
   "execution_count": 15,
   "metadata": {},
   "outputs": [],
   "source": [
    "df_officers.to_csv(home_directory + '/src/officers.csv', index=False)"
   ]
  },
  {
   "cell_type": "markdown",
   "metadata": {},
   "source": [
    "### Creating time series of different granularities: hourly, daily, weekly, monthly for each officer"
   ]
  },
  {
   "cell_type": "code",
   "execution_count": 16,
   "metadata": {},
   "outputs": [
    {
     "data": {
      "text/html": [
       "<div>\n",
       "<style scoped>\n",
       "    .dataframe tbody tr th:only-of-type {\n",
       "        vertical-align: middle;\n",
       "    }\n",
       "\n",
       "    .dataframe tbody tr th {\n",
       "        vertical-align: top;\n",
       "    }\n",
       "\n",
       "    .dataframe thead th {\n",
       "        text-align: right;\n",
       "    }\n",
       "</style>\n",
       "<table border=\"1\" class=\"dataframe\">\n",
       "  <thead>\n",
       "    <tr style=\"text-align: right;\">\n",
       "      <th></th>\n",
       "      <th>officer_id_hash</th>\n",
       "      <th>date</th>\n",
       "      <th>citation_issued</th>\n",
       "      <th>precinct</th>\n",
       "    </tr>\n",
       "  </thead>\n",
       "  <tbody>\n",
       "    <tr>\n",
       "      <th>0</th>\n",
       "      <td>0065f02af8</td>\n",
       "      <td>2014-10-14</td>\n",
       "      <td>1</td>\n",
       "      <td>E</td>\n",
       "    </tr>\n",
       "    <tr>\n",
       "      <th>1</th>\n",
       "      <td>0065f02af8</td>\n",
       "      <td>2015-08-19</td>\n",
       "      <td>1</td>\n",
       "      <td>E</td>\n",
       "    </tr>\n",
       "    <tr>\n",
       "      <th>2</th>\n",
       "      <td>0092ecd6fd</td>\n",
       "      <td>2013-01-22</td>\n",
       "      <td>1</td>\n",
       "      <td>W</td>\n",
       "    </tr>\n",
       "    <tr>\n",
       "      <th>3</th>\n",
       "      <td>0092ecd6fd</td>\n",
       "      <td>2013-10-25</td>\n",
       "      <td>1</td>\n",
       "      <td>W</td>\n",
       "    </tr>\n",
       "    <tr>\n",
       "      <th>4</th>\n",
       "      <td>0092ecd6fd</td>\n",
       "      <td>2014-01-18</td>\n",
       "      <td>1</td>\n",
       "      <td>W</td>\n",
       "    </tr>\n",
       "  </tbody>\n",
       "</table>\n",
       "</div>"
      ],
      "text/plain": [
       "  officer_id_hash       date  citation_issued precinct\n",
       "0      0065f02af8 2014-10-14                1        E\n",
       "1      0065f02af8 2015-08-19                1        E\n",
       "2      0092ecd6fd 2013-01-22                1        W\n",
       "3      0092ecd6fd 2013-10-25                1        W\n",
       "4      0092ecd6fd 2014-01-18                1        W"
      ]
     },
     "execution_count": 16,
     "metadata": {},
     "output_type": "execute_result"
    }
   ],
   "source": [
    "daily_timeseries = df_seattle.groupby([df_seattle.officer_id_hash, df_seattle.date]).count().reset_index()[['officer_id_hash', 'date', 'citation_issued']]\n",
    "daily_timeseries = daily_timeseries.merge(df_officers[['officer_id_hash', 'precinct']], on='officer_id_hash', how='left')\n",
    "daily_timeseries.head()"
   ]
  },
  {
   "cell_type": "code",
   "execution_count": 17,
   "metadata": {},
   "outputs": [
    {
     "data": {
      "text/html": [
       "<div>\n",
       "<style scoped>\n",
       "    .dataframe tbody tr th:only-of-type {\n",
       "        vertical-align: middle;\n",
       "    }\n",
       "\n",
       "    .dataframe tbody tr th {\n",
       "        vertical-align: top;\n",
       "    }\n",
       "\n",
       "    .dataframe thead th {\n",
       "        text-align: right;\n",
       "    }\n",
       "</style>\n",
       "<table border=\"1\" class=\"dataframe\">\n",
       "  <thead>\n",
       "    <tr style=\"text-align: right;\">\n",
       "      <th></th>\n",
       "      <th>officer_id_hash</th>\n",
       "      <th>date</th>\n",
       "      <th>citation_issued</th>\n",
       "      <th>precinct</th>\n",
       "    </tr>\n",
       "  </thead>\n",
       "  <tbody>\n",
       "    <tr>\n",
       "      <th>0</th>\n",
       "      <td>0065f02af8</td>\n",
       "      <td>2014-10-20</td>\n",
       "      <td>1</td>\n",
       "      <td>E</td>\n",
       "    </tr>\n",
       "    <tr>\n",
       "      <th>1</th>\n",
       "      <td>0065f02af8</td>\n",
       "      <td>2015-08-24</td>\n",
       "      <td>1</td>\n",
       "      <td>E</td>\n",
       "    </tr>\n",
       "    <tr>\n",
       "      <th>2</th>\n",
       "      <td>0092ecd6fd</td>\n",
       "      <td>2013-01-28</td>\n",
       "      <td>1</td>\n",
       "      <td>W</td>\n",
       "    </tr>\n",
       "    <tr>\n",
       "      <th>3</th>\n",
       "      <td>0092ecd6fd</td>\n",
       "      <td>2013-10-28</td>\n",
       "      <td>1</td>\n",
       "      <td>W</td>\n",
       "    </tr>\n",
       "    <tr>\n",
       "      <th>4</th>\n",
       "      <td>0092ecd6fd</td>\n",
       "      <td>2014-01-20</td>\n",
       "      <td>1</td>\n",
       "      <td>W</td>\n",
       "    </tr>\n",
       "  </tbody>\n",
       "</table>\n",
       "</div>"
      ],
      "text/plain": [
       "  officer_id_hash       date  citation_issued precinct\n",
       "0      0065f02af8 2014-10-20                1        E\n",
       "1      0065f02af8 2015-08-24                1        E\n",
       "2      0092ecd6fd 2013-01-28                1        W\n",
       "3      0092ecd6fd 2013-10-28                1        W\n",
       "4      0092ecd6fd 2014-01-20                1        W"
      ]
     },
     "execution_count": 17,
     "metadata": {},
     "output_type": "execute_result"
    }
   ],
   "source": [
    "weekly_timeseries = df_seattle.groupby([df_seattle.officer_id_hash, pd.Grouper(key='date', freq='W-MON')]).count().reset_index()[['officer_id_hash', 'date', 'citation_issued']]\n",
    "weekly_timeseries = weekly_timeseries.merge(df_officers[['officer_id_hash', 'precinct']], on='officer_id_hash', how='left')\n",
    "weekly_timeseries.head()"
   ]
  },
  {
   "cell_type": "code",
   "execution_count": 18,
   "metadata": {},
   "outputs": [
    {
     "data": {
      "text/html": [
       "<div>\n",
       "<style scoped>\n",
       "    .dataframe tbody tr th:only-of-type {\n",
       "        vertical-align: middle;\n",
       "    }\n",
       "\n",
       "    .dataframe tbody tr th {\n",
       "        vertical-align: top;\n",
       "    }\n",
       "\n",
       "    .dataframe thead th {\n",
       "        text-align: right;\n",
       "    }\n",
       "</style>\n",
       "<table border=\"1\" class=\"dataframe\">\n",
       "  <thead>\n",
       "    <tr style=\"text-align: right;\">\n",
       "      <th></th>\n",
       "      <th>officer_id_hash</th>\n",
       "      <th>date</th>\n",
       "      <th>citation_issued</th>\n",
       "      <th>precinct</th>\n",
       "    </tr>\n",
       "  </thead>\n",
       "  <tbody>\n",
       "    <tr>\n",
       "      <th>0</th>\n",
       "      <td>0065f02af8</td>\n",
       "      <td>2014-10-31</td>\n",
       "      <td>1</td>\n",
       "      <td>E</td>\n",
       "    </tr>\n",
       "    <tr>\n",
       "      <th>1</th>\n",
       "      <td>0065f02af8</td>\n",
       "      <td>2015-08-31</td>\n",
       "      <td>1</td>\n",
       "      <td>E</td>\n",
       "    </tr>\n",
       "    <tr>\n",
       "      <th>2</th>\n",
       "      <td>0092ecd6fd</td>\n",
       "      <td>2013-01-31</td>\n",
       "      <td>1</td>\n",
       "      <td>W</td>\n",
       "    </tr>\n",
       "    <tr>\n",
       "      <th>3</th>\n",
       "      <td>0092ecd6fd</td>\n",
       "      <td>2013-10-31</td>\n",
       "      <td>1</td>\n",
       "      <td>W</td>\n",
       "    </tr>\n",
       "    <tr>\n",
       "      <th>4</th>\n",
       "      <td>0092ecd6fd</td>\n",
       "      <td>2014-01-31</td>\n",
       "      <td>1</td>\n",
       "      <td>W</td>\n",
       "    </tr>\n",
       "    <tr>\n",
       "      <th>5</th>\n",
       "      <td>0092ecd6fd</td>\n",
       "      <td>2014-04-30</td>\n",
       "      <td>1</td>\n",
       "      <td>W</td>\n",
       "    </tr>\n",
       "    <tr>\n",
       "      <th>6</th>\n",
       "      <td>0092ecd6fd</td>\n",
       "      <td>2014-11-30</td>\n",
       "      <td>1</td>\n",
       "      <td>W</td>\n",
       "    </tr>\n",
       "    <tr>\n",
       "      <th>7</th>\n",
       "      <td>016606d685</td>\n",
       "      <td>2013-01-31</td>\n",
       "      <td>16</td>\n",
       "      <td>SW</td>\n",
       "    </tr>\n",
       "    <tr>\n",
       "      <th>8</th>\n",
       "      <td>016606d685</td>\n",
       "      <td>2013-02-28</td>\n",
       "      <td>4</td>\n",
       "      <td>SW</td>\n",
       "    </tr>\n",
       "    <tr>\n",
       "      <th>9</th>\n",
       "      <td>016606d685</td>\n",
       "      <td>2013-03-31</td>\n",
       "      <td>9</td>\n",
       "      <td>SW</td>\n",
       "    </tr>\n",
       "  </tbody>\n",
       "</table>\n",
       "</div>"
      ],
      "text/plain": [
       "  officer_id_hash       date  citation_issued precinct\n",
       "0      0065f02af8 2014-10-31                1        E\n",
       "1      0065f02af8 2015-08-31                1        E\n",
       "2      0092ecd6fd 2013-01-31                1        W\n",
       "3      0092ecd6fd 2013-10-31                1        W\n",
       "4      0092ecd6fd 2014-01-31                1        W\n",
       "5      0092ecd6fd 2014-04-30                1        W\n",
       "6      0092ecd6fd 2014-11-30                1        W\n",
       "7      016606d685 2013-01-31               16       SW\n",
       "8      016606d685 2013-02-28                4       SW\n",
       "9      016606d685 2013-03-31                9       SW"
      ]
     },
     "execution_count": 18,
     "metadata": {},
     "output_type": "execute_result"
    }
   ],
   "source": [
    "monthly_timeseries = df_seattle.groupby([df_seattle.officer_id_hash, pd.Grouper(key='date', freq='M')]).count().reset_index()[['officer_id_hash', 'date', 'citation_issued']]\n",
    "monthly_timeseries = monthly_timeseries.merge(df_officers[['officer_id_hash', 'precinct']], on='officer_id_hash', how='left')\n",
    "monthly_timeseries.head(10)"
   ]
  },
  {
   "cell_type": "markdown",
   "metadata": {},
   "source": [
    "#### Exports timeseries dataframes of different granularities to the src folder"
   ]
  },
  {
   "cell_type": "code",
   "execution_count": 19,
   "metadata": {},
   "outputs": [],
   "source": [
    "daily_timeseries.to_csv(home_directory + '/src/daily_ts.csv', index=False)\n",
    "weekly_timeseries.to_csv(home_directory + '/src/weekly_ts.csv', index=False)\n",
    "monthly_timeseries.to_csv(home_directory + '/src/monthly_ts.csv', index=False)"
   ]
  },
  {
   "cell_type": "markdown",
   "metadata": {},
   "source": [
    "### From the time series dataframes, we create new dataframes on the precinct level "
   ]
  },
  {
   "cell_type": "code",
   "execution_count": 20,
   "metadata": {},
   "outputs": [
    {
     "data": {
      "text/html": [
       "<div>\n",
       "<style scoped>\n",
       "    .dataframe tbody tr th:only-of-type {\n",
       "        vertical-align: middle;\n",
       "    }\n",
       "\n",
       "    .dataframe tbody tr th {\n",
       "        vertical-align: top;\n",
       "    }\n",
       "\n",
       "    .dataframe thead th {\n",
       "        text-align: right;\n",
       "    }\n",
       "</style>\n",
       "<table border=\"1\" class=\"dataframe\">\n",
       "  <thead>\n",
       "    <tr style=\"text-align: right;\">\n",
       "      <th></th>\n",
       "      <th>precinct</th>\n",
       "      <th>date</th>\n",
       "      <th>citation_issued</th>\n",
       "    </tr>\n",
       "  </thead>\n",
       "  <tbody>\n",
       "    <tr>\n",
       "      <th>0</th>\n",
       "      <td>E</td>\n",
       "      <td>2013-01-01</td>\n",
       "      <td>11</td>\n",
       "    </tr>\n",
       "    <tr>\n",
       "      <th>1</th>\n",
       "      <td>E</td>\n",
       "      <td>2013-01-02</td>\n",
       "      <td>15</td>\n",
       "    </tr>\n",
       "    <tr>\n",
       "      <th>2</th>\n",
       "      <td>E</td>\n",
       "      <td>2013-01-03</td>\n",
       "      <td>5</td>\n",
       "    </tr>\n",
       "    <tr>\n",
       "      <th>3</th>\n",
       "      <td>E</td>\n",
       "      <td>2013-01-04</td>\n",
       "      <td>15</td>\n",
       "    </tr>\n",
       "    <tr>\n",
       "      <th>4</th>\n",
       "      <td>E</td>\n",
       "      <td>2013-01-05</td>\n",
       "      <td>9</td>\n",
       "    </tr>\n",
       "  </tbody>\n",
       "</table>\n",
       "</div>"
      ],
      "text/plain": [
       "  precinct       date  citation_issued\n",
       "0        E 2013-01-01               11\n",
       "1        E 2013-01-02               15\n",
       "2        E 2013-01-03                5\n",
       "3        E 2013-01-04               15\n",
       "4        E 2013-01-05                9"
      ]
     },
     "execution_count": 20,
     "metadata": {},
     "output_type": "execute_result"
    }
   ],
   "source": [
    "daily_precinct = daily_timeseries.groupby(['precinct','date']).sum().reset_index()\n",
    "daily_precinct.head()"
   ]
  },
  {
   "cell_type": "code",
   "execution_count": 21,
   "metadata": {},
   "outputs": [
    {
     "data": {
      "text/html": [
       "<div>\n",
       "<style scoped>\n",
       "    .dataframe tbody tr th:only-of-type {\n",
       "        vertical-align: middle;\n",
       "    }\n",
       "\n",
       "    .dataframe tbody tr th {\n",
       "        vertical-align: top;\n",
       "    }\n",
       "\n",
       "    .dataframe thead th {\n",
       "        text-align: right;\n",
       "    }\n",
       "</style>\n",
       "<table border=\"1\" class=\"dataframe\">\n",
       "  <thead>\n",
       "    <tr style=\"text-align: right;\">\n",
       "      <th></th>\n",
       "      <th>precinct</th>\n",
       "      <th>date</th>\n",
       "      <th>citation_issued</th>\n",
       "    </tr>\n",
       "  </thead>\n",
       "  <tbody>\n",
       "    <tr>\n",
       "      <th>0</th>\n",
       "      <td>E</td>\n",
       "      <td>2013-01-07</td>\n",
       "      <td>71</td>\n",
       "    </tr>\n",
       "    <tr>\n",
       "      <th>1</th>\n",
       "      <td>E</td>\n",
       "      <td>2013-01-14</td>\n",
       "      <td>78</td>\n",
       "    </tr>\n",
       "    <tr>\n",
       "      <th>2</th>\n",
       "      <td>E</td>\n",
       "      <td>2013-01-21</td>\n",
       "      <td>98</td>\n",
       "    </tr>\n",
       "    <tr>\n",
       "      <th>3</th>\n",
       "      <td>E</td>\n",
       "      <td>2013-01-28</td>\n",
       "      <td>76</td>\n",
       "    </tr>\n",
       "    <tr>\n",
       "      <th>4</th>\n",
       "      <td>E</td>\n",
       "      <td>2013-02-04</td>\n",
       "      <td>62</td>\n",
       "    </tr>\n",
       "  </tbody>\n",
       "</table>\n",
       "</div>"
      ],
      "text/plain": [
       "  precinct       date  citation_issued\n",
       "0        E 2013-01-07               71\n",
       "1        E 2013-01-14               78\n",
       "2        E 2013-01-21               98\n",
       "3        E 2013-01-28               76\n",
       "4        E 2013-02-04               62"
      ]
     },
     "execution_count": 21,
     "metadata": {},
     "output_type": "execute_result"
    }
   ],
   "source": [
    "weekly_precinct = weekly_timeseries.groupby(['precinct', pd.Grouper(key='date', freq='W-MON')]).sum().reset_index()\n",
    "weekly_precinct.head()"
   ]
  },
  {
   "cell_type": "code",
   "execution_count": 22,
   "metadata": {
    "scrolled": true
   },
   "outputs": [
    {
     "data": {
      "text/html": [
       "<div>\n",
       "<style scoped>\n",
       "    .dataframe tbody tr th:only-of-type {\n",
       "        vertical-align: middle;\n",
       "    }\n",
       "\n",
       "    .dataframe tbody tr th {\n",
       "        vertical-align: top;\n",
       "    }\n",
       "\n",
       "    .dataframe thead th {\n",
       "        text-align: right;\n",
       "    }\n",
       "</style>\n",
       "<table border=\"1\" class=\"dataframe\">\n",
       "  <thead>\n",
       "    <tr style=\"text-align: right;\">\n",
       "      <th></th>\n",
       "      <th>precinct</th>\n",
       "      <th>date</th>\n",
       "      <th>citation_issued</th>\n",
       "    </tr>\n",
       "  </thead>\n",
       "  <tbody>\n",
       "    <tr>\n",
       "      <th>0</th>\n",
       "      <td>E</td>\n",
       "      <td>2013-01-31</td>\n",
       "      <td>352</td>\n",
       "    </tr>\n",
       "    <tr>\n",
       "      <th>1</th>\n",
       "      <td>E</td>\n",
       "      <td>2013-02-28</td>\n",
       "      <td>256</td>\n",
       "    </tr>\n",
       "    <tr>\n",
       "      <th>2</th>\n",
       "      <td>E</td>\n",
       "      <td>2013-03-31</td>\n",
       "      <td>274</td>\n",
       "    </tr>\n",
       "    <tr>\n",
       "      <th>3</th>\n",
       "      <td>E</td>\n",
       "      <td>2013-04-30</td>\n",
       "      <td>218</td>\n",
       "    </tr>\n",
       "    <tr>\n",
       "      <th>4</th>\n",
       "      <td>E</td>\n",
       "      <td>2013-05-31</td>\n",
       "      <td>275</td>\n",
       "    </tr>\n",
       "  </tbody>\n",
       "</table>\n",
       "</div>"
      ],
      "text/plain": [
       "  precinct       date  citation_issued\n",
       "0        E 2013-01-31              352\n",
       "1        E 2013-02-28              256\n",
       "2        E 2013-03-31              274\n",
       "3        E 2013-04-30              218\n",
       "4        E 2013-05-31              275"
      ]
     },
     "execution_count": 22,
     "metadata": {},
     "output_type": "execute_result"
    }
   ],
   "source": [
    "monthly_precinct = monthly_timeseries.groupby(['precinct', pd.Grouper(key='date', freq='M')]).sum().reset_index()\n",
    "monthly_precinct.head()"
   ]
  },
  {
   "cell_type": "code",
   "execution_count": 23,
   "metadata": {},
   "outputs": [],
   "source": [
    "daily_precinct.to_csv(home_directory + '/src/daily_precinct.csv', index=False)\n",
    "weekly_precinct.to_csv(home_directory + '/src/weekly_precinct.csv', index=False)\n",
    "monthly_precinct.to_csv(home_directory + '/src/monthly_precinct.csv', index=False)"
   ]
  },
  {
   "cell_type": "markdown",
   "metadata": {},
   "source": [
    "#### Plotting number of monthly citations per precinct"
   ]
  },
  {
   "cell_type": "code",
   "execution_count": 24,
   "metadata": {
    "scrolled": false
   },
   "outputs": [
    {
     "name": "stderr",
     "output_type": "stream",
     "text": [
      "/home/ablew/anaconda3/lib/python3.7/site-packages/pandas/plotting/_converter.py:129: FutureWarning: Using an implicitly registered datetime converter for a matplotlib plotting method. The converter was registered by pandas on import. Future versions of pandas will require you to explicitly register matplotlib converters.\n",
      "\n",
      "To register the converters:\n",
      "\t>>> from pandas.plotting import register_matplotlib_converters\n",
      "\t>>> register_matplotlib_converters()\n",
      "  warnings.warn(msg, FutureWarning)\n"
     ]
    },
    {
     "data": {
      "text/plain": [
       "[<matplotlib.lines.Line2D at 0x7faab1911eb8>]"
      ]
     },
     "execution_count": 24,
     "metadata": {},
     "output_type": "execute_result"
    },
    {
     "data": {
      "text/plain": [
       "[<matplotlib.lines.Line2D at 0x7faab19ea588>]"
      ]
     },
     "execution_count": 24,
     "metadata": {},
     "output_type": "execute_result"
    },
    {
     "data": {
      "text/plain": [
       "[<matplotlib.lines.Line2D at 0x7faab19ea470>]"
      ]
     },
     "execution_count": 24,
     "metadata": {},
     "output_type": "execute_result"
    },
    {
     "data": {
      "text/plain": [
       "[<matplotlib.lines.Line2D at 0x7faab19ea978>]"
      ]
     },
     "execution_count": 24,
     "metadata": {},
     "output_type": "execute_result"
    },
    {
     "data": {
      "text/plain": [
       "[<matplotlib.lines.Line2D at 0x7faab19ea4a8>]"
      ]
     },
     "execution_count": 24,
     "metadata": {},
     "output_type": "execute_result"
    },
    {
     "data": {
      "text/plain": [
       "[<matplotlib.lines.Line2D at 0x7faab19eaf98>]"
      ]
     },
     "execution_count": 24,
     "metadata": {},
     "output_type": "execute_result"
    },
    {
     "data": {
      "text/plain": [
       "<matplotlib.legend.Legend at 0x7faab1929358>"
      ]
     },
     "execution_count": 24,
     "metadata": {},
     "output_type": "execute_result"
    },
    {
     "data": {
      "text/plain": [
       "Text(0.5, 1.0, 'Citations per Precinct')"
      ]
     },
     "execution_count": 24,
     "metadata": {},
     "output_type": "execute_result"
    },
    {
     "data": {
      "image/png": "[encoded data removed]",
      "text/plain": [
       "<Figure size 864x504 with 1 Axes>"
      ]
     },
     "metadata": {
      "needs_background": "light"
     },
     "output_type": "display_data"
    }
   ],
   "source": [
    "plt.rcParams['figure.figsize'] = [12, 7]\n",
    "plt.plot(monthly_precinct[monthly_precinct.precinct == 'E'].date,\n",
    "         monthly_precinct[monthly_precinct.precinct == 'E'].citation_issued,\n",
    "         label='E')\n",
    "plt.plot(monthly_precinct[monthly_precinct.precinct == 'N'].date, \n",
    "         monthly_precinct[monthly_precinct.precinct == 'N'].citation_issued,\n",
    "         label='N')\n",
    "plt.plot(monthly_precinct[monthly_precinct.precinct == 'W'].date, \n",
    "         monthly_precinct[monthly_precinct.precinct == 'W'].citation_issued,\n",
    "         label='W')\n",
    "plt.plot(monthly_precinct[monthly_precinct.precinct == 'S'].date, \n",
    "         monthly_precinct[monthly_precinct.precinct == 'S'].citation_issued,\n",
    "         label='S')\n",
    "plt.plot(monthly_precinct[monthly_precinct.precinct == 'SW'].date, \n",
    "         monthly_precinct[monthly_precinct.precinct == 'SW'].citation_issued,\n",
    "         label='W')\n",
    "plt.plot(monthly_precinct[monthly_precinct.precinct == 'SW'].date, \n",
    "         monthly_precinct.groupby(monthly_precinct.date).mean().citation_issued,\n",
    "         label='Mean', color='black')\n",
    "plt.legend()\n",
    "plt.grid()\n",
    "plt.title('Citations per Precinct')\n",
    "plt.savefig(home_directory + '/results/citations_precinct.png')\n",
    "plt.show()"
   ]
  },
  {
   "cell_type": "markdown",
   "metadata": {},
   "source": [
    "### Periodicity\n",
    "#### We will check periodicity using autocorrelation plots, resampling to smooth the time series"
   ]
  },
  {
   "cell_type": "code",
   "execution_count": 25,
   "metadata": {},
   "outputs": [
    {
     "data": {
      "text/plain": [
       "<matplotlib.axes._subplots.AxesSubplot at 0x7faab19c5c88>"
      ]
     },
     "execution_count": 25,
     "metadata": {},
     "output_type": "execute_result"
    },
    {
     "data": {
      "text/plain": [
       "<matplotlib.axes._subplots.AxesSubplot at 0x7faab19c5c88>"
      ]
     },
     "execution_count": 25,
     "metadata": {},
     "output_type": "execute_result"
    },
    {
     "data": {
      "text/plain": [
       "<matplotlib.axes._subplots.AxesSubplot at 0x7faab19c5c88>"
      ]
     },
     "execution_count": 25,
     "metadata": {},
     "output_type": "execute_result"
    },
    {
     "data": {
      "text/plain": [
       "<matplotlib.axes._subplots.AxesSubplot at 0x7faab19c5c88>"
      ]
     },
     "execution_count": 25,
     "metadata": {},
     "output_type": "execute_result"
    },
    {
     "data": {
      "text/plain": [
       "<matplotlib.axes._subplots.AxesSubplot at 0x7faab19c5c88>"
      ]
     },
     "execution_count": 25,
     "metadata": {},
     "output_type": "execute_result"
    },
    {
     "data": {
      "text/plain": [
       "Text(0.5, 1.0, 'Autocorrelation by Day per Precinct')"
      ]
     },
     "execution_count": 25,
     "metadata": {},
     "output_type": "execute_result"
    },
    {
     "data": {
      "image/png": "[encoded data removed]",
      "text/plain": [
       "<Figure size 864x504 with 1 Axes>"
      ]
     },
     "metadata": {
      "needs_background": "light"
     },
     "output_type": "display_data"
    }
   ],
   "source": [
    "daily_precinct2 = daily_precinct\n",
    "daily_precinct2 = daily_precinct2.set_index(daily_precinct2.date)\n",
    "\n",
    "pd.plotting.autocorrelation_plot(daily_precinct2[(daily_precinct2.precinct == 'E')].citation_issued.resample(\"1y\").mean(), label='E')\n",
    "pd.plotting.autocorrelation_plot(daily_precinct2[(daily_precinct2.precinct == 'S')].citation_issued.resample(\"1y\").mean(), label='S')\n",
    "pd.plotting.autocorrelation_plot(daily_precinct2[(daily_precinct2.precinct == 'W')].citation_issued.resample(\"1y\").mean(), label='W')\n",
    "pd.plotting.autocorrelation_plot(daily_precinct2[(daily_precinct2.precinct == 'N')].citation_issued.resample(\"1y\").mean(), label='N')\n",
    "pd.plotting.autocorrelation_plot(daily_precinct2[(daily_precinct2.precinct == 'SW')].citation_issued.resample(\"1y\").mean(), label='SW')\n",
    "plt.savefig(home_directory + '/results/autocorrelation_day.png')\n",
    "plt.title('Autocorrelation by Day per Precinct')"
   ]
  },
  {
   "cell_type": "markdown",
   "metadata": {},
   "source": [
    "Weak negative autocorrelation every 1.5/2 days. "
   ]
  },
  {
   "cell_type": "code",
   "execution_count": 26,
   "metadata": {},
   "outputs": [
    {
     "data": {
      "text/plain": [
       "<matplotlib.axes._subplots.AxesSubplot at 0x7faab18df0f0>"
      ]
     },
     "execution_count": 26,
     "metadata": {},
     "output_type": "execute_result"
    },
    {
     "data": {
      "text/plain": [
       "<matplotlib.axes._subplots.AxesSubplot at 0x7faab18df0f0>"
      ]
     },
     "execution_count": 26,
     "metadata": {},
     "output_type": "execute_result"
    },
    {
     "data": {
      "text/plain": [
       "<matplotlib.axes._subplots.AxesSubplot at 0x7faab18df0f0>"
      ]
     },
     "execution_count": 26,
     "metadata": {},
     "output_type": "execute_result"
    },
    {
     "data": {
      "text/plain": [
       "<matplotlib.axes._subplots.AxesSubplot at 0x7faab18df0f0>"
      ]
     },
     "execution_count": 26,
     "metadata": {},
     "output_type": "execute_result"
    },
    {
     "data": {
      "text/plain": [
       "<matplotlib.axes._subplots.AxesSubplot at 0x7faab18df0f0>"
      ]
     },
     "execution_count": 26,
     "metadata": {},
     "output_type": "execute_result"
    },
    {
     "data": {
      "text/plain": [
       "Text(0.5, 1.0, 'Autocorrelation by Week per Precinct')"
      ]
     },
     "execution_count": 26,
     "metadata": {},
     "output_type": "execute_result"
    },
    {
     "data": {
      "image/png": "[encoded data removed]",
      "text/plain": [
       "<Figure size 864x504 with 1 Axes>"
      ]
     },
     "metadata": {
      "needs_background": "light"
     },
     "output_type": "display_data"
    }
   ],
   "source": [
    "weekly_precinct2 = weekly_precinct\n",
    "weekly_precinct2 = weekly_precinct2.set_index(weekly_precinct2.date)\n",
    "\n",
    "pd.plotting.autocorrelation_plot(weekly_precinct2[(weekly_precinct2.precinct == 'E')].citation_issued.resample(\"1y\").mean(), label='E')\n",
    "pd.plotting.autocorrelation_plot(weekly_precinct2[(weekly_precinct2.precinct == 'S')].citation_issued.resample(\"1y\").mean(), label='S')\n",
    "pd.plotting.autocorrelation_plot(weekly_precinct2[(weekly_precinct2.precinct == 'W')].citation_issued.resample(\"1y\").mean(), label='W')\n",
    "pd.plotting.autocorrelation_plot(weekly_precinct2[(weekly_precinct2.precinct == 'N')].citation_issued.resample(\"1y\").mean(), label='N')\n",
    "pd.plotting.autocorrelation_plot(weekly_precinct2[(weekly_precinct2.precinct == 'SW')].citation_issued.resample(\"1y\").mean(), label='SW')\n",
    "plt.savefig(home_directory + '/results/autocorrelation_week.png')\n",
    "plt.title('Autocorrelation by Week per Precinct')"
   ]
  },
  {
   "cell_type": "markdown",
   "metadata": {},
   "source": [
    "Negative autocorrelation every 3 weeks."
   ]
  },
  {
   "cell_type": "code",
   "execution_count": 27,
   "metadata": {},
   "outputs": [
    {
     "data": {
      "text/plain": [
       "<matplotlib.axes._subplots.AxesSubplot at 0x7faab1754438>"
      ]
     },
     "execution_count": 27,
     "metadata": {},
     "output_type": "execute_result"
    },
    {
     "data": {
      "text/plain": [
       "<matplotlib.axes._subplots.AxesSubplot at 0x7faab1754438>"
      ]
     },
     "execution_count": 27,
     "metadata": {},
     "output_type": "execute_result"
    },
    {
     "data": {
      "text/plain": [
       "<matplotlib.axes._subplots.AxesSubplot at 0x7faab1754438>"
      ]
     },
     "execution_count": 27,
     "metadata": {},
     "output_type": "execute_result"
    },
    {
     "data": {
      "text/plain": [
       "<matplotlib.axes._subplots.AxesSubplot at 0x7faab1754438>"
      ]
     },
     "execution_count": 27,
     "metadata": {},
     "output_type": "execute_result"
    },
    {
     "data": {
      "text/plain": [
       "<matplotlib.axes._subplots.AxesSubplot at 0x7faab1754438>"
      ]
     },
     "execution_count": 27,
     "metadata": {},
     "output_type": "execute_result"
    },
    {
     "data": {
      "text/plain": [
       "Text(0.5, 1.0, 'Autocorrelation by Month per Precinct')"
      ]
     },
     "execution_count": 27,
     "metadata": {},
     "output_type": "execute_result"
    },
    {
     "data": {
      "image/png": "[encoded data removed]",
      "text/plain": [
       "<Figure size 864x504 with 1 Axes>"
      ]
     },
     "metadata": {
      "needs_background": "light"
     },
     "output_type": "display_data"
    }
   ],
   "source": [
    "monthly_precinct2 = monthly_precinct\n",
    "monthly_precinct2 = monthly_precinct2.set_index(monthly_precinct2.date)\n",
    "\n",
    "pd.plotting.autocorrelation_plot(monthly_precinct2[(monthly_precinct2.precinct == 'E')].citation_issued, label='E')\n",
    "pd.plotting.autocorrelation_plot(monthly_precinct2[(monthly_precinct2.precinct == 'S')].citation_issued, label='S')\n",
    "pd.plotting.autocorrelation_plot(monthly_precinct2[(monthly_precinct2.precinct == 'W')].citation_issued, label='W')\n",
    "pd.plotting.autocorrelation_plot(monthly_precinct2[(monthly_precinct2.precinct == 'N')].citation_issued, label='N')\n",
    "pd.plotting.autocorrelation_plot(monthly_precinct2[(monthly_precinct2.precinct == 'SW')].citation_issued, label='SW')\n",
    "plt.savefig(home_directory + '/results/autocorrelation_month.png')\n",
    "plt.title('Autocorrelation by Month per Precinct')"
   ]
  },
  {
   "cell_type": "markdown",
   "metadata": {},
   "source": [
    "No autocorrelation for months."
   ]
  },
  {
   "cell_type": "markdown",
   "metadata": {},
   "source": [
    "### Hypothetical Quotas\n",
    "#### For each granularity, we calculate which officers passed the hypothetical ticket quota (range 1-10) at least once."
   ]
  },
  {
   "cell_type": "code",
   "execution_count": 28,
   "metadata": {},
   "outputs": [],
   "source": [
    "pass_list_day = []\n",
    "for i in range(10):\n",
    "    day_test = daily_timeseries\n",
    "    day_test['pass'] = day_test.citation_issued > i\n",
    "    day_test2 = day_test.groupby('officer_id_hash').mean().reset_index()\n",
    "    pass_list_day.append(len(day_test2[day_test2['pass'] != 0]) / day_test2.officer_id_hash.nunique())"
   ]
  },
  {
   "cell_type": "code",
   "execution_count": 29,
   "metadata": {},
   "outputs": [],
   "source": [
    "pass_list_week = []\n",
    "for i in range(10):\n",
    "    week_test = weekly_timeseries\n",
    "    week_test['pass'] = week_test.citation_issued > i\n",
    "    week_test2 = week_test.groupby('officer_id_hash').mean().reset_index()\n",
    "    pass_list_week.append(len(week_test2[week_test2['pass'] != 0]) / week_test2.officer_id_hash.nunique())"
   ]
  },
  {
   "cell_type": "code",
   "execution_count": 30,
   "metadata": {},
   "outputs": [],
   "source": [
    "pass_list_month = []\n",
    "for i in range(10):\n",
    "    month_test = monthly_timeseries\n",
    "    month_test['pass'] = month_test.citation_issued > i\n",
    "    month_test2 = month_test.groupby('officer_id_hash').mean().reset_index()\n",
    "    pass_list_month.append(len(month_test2[month_test2['pass'] != 0]) / month_test2.officer_id_hash.nunique())"
   ]
  },
  {
   "cell_type": "code",
   "execution_count": 31,
   "metadata": {},
   "outputs": [
    {
     "data": {
      "text/plain": [
       "[<matplotlib.lines.Line2D at 0x7faab156feb8>]"
      ]
     },
     "execution_count": 31,
     "metadata": {},
     "output_type": "execute_result"
    },
    {
     "data": {
      "text/plain": [
       "[<matplotlib.lines.Line2D at 0x7faab16555c0>]"
      ]
     },
     "execution_count": 31,
     "metadata": {},
     "output_type": "execute_result"
    },
    {
     "data": {
      "text/plain": [
       "[<matplotlib.lines.Line2D at 0x7faab1573278>]"
      ]
     },
     "execution_count": 31,
     "metadata": {},
     "output_type": "execute_result"
    },
    {
     "data": {
      "text/plain": [
       "Text(0.5, 1.0, 'Proportion of officers passing quota')"
      ]
     },
     "execution_count": 31,
     "metadata": {},
     "output_type": "execute_result"
    },
    {
     "data": {
      "text/plain": [
       "Text(0, 0.5, 'Proportion of officers')"
      ]
     },
     "execution_count": 31,
     "metadata": {},
     "output_type": "execute_result"
    },
    {
     "data": {
      "text/plain": [
       "Text(0.5, 0, 'Hypothetical ticket quota')"
      ]
     },
     "execution_count": 31,
     "metadata": {},
     "output_type": "execute_result"
    },
    {
     "data": {
      "text/plain": [
       "<matplotlib.legend.Legend at 0x7faab168e8d0>"
      ]
     },
     "execution_count": 31,
     "metadata": {},
     "output_type": "execute_result"
    },
    {
     "data": {
      "image/png": "[encoded data removed]",
      "text/plain": [
       "<Figure size 864x504 with 1 Axes>"
      ]
     },
     "metadata": {
      "needs_background": "light"
     },
     "output_type": "display_data"
    }
   ],
   "source": [
    "plt.plot(range(10), pass_list_week, label = 'week')\n",
    "plt.plot(range(10), pass_list_month, label = 'month')\n",
    "plt.plot(range(10), pass_list_day, label = 'day')\n",
    "plt.grid()\n",
    "plt.title('Proportion of officers passing quota')\n",
    "plt.ylabel('Proportion of officers')\n",
    "plt.xlabel('Hypothetical ticket quota')\n",
    "plt.legend()\n",
    "plt.savefig(home_directory + '/results/passing_officers.png')\n",
    "plt.show()"
   ]
  },
  {
   "cell_type": "markdown",
   "metadata": {},
   "source": [
    "As we can see, the proportion drops off rapidly after the 1-ticket quota. If we assume that majority = 60%, the majority of police officers won't pass the traffic ticket quota when the quota is set to 2 tickets per day, per week or per month. \n",
    "Even if the quota was 1 per day, it would follow by linearity that officers would pass 7 per week or 30 per month, but none of those cases occur. "
   ]
  },
  {
   "cell_type": "markdown",
   "metadata": {},
   "source": [
    "### Creates interactive heatmap in an html file in the results folder.\n",
    "#### Please input Google Maps API Key obtained from https://cloud.google.com/maps-platform/pricing/"
   ]
  },
  {
   "cell_type": "code",
   "execution_count": 32,
   "metadata": {},
   "outputs": [],
   "source": [
    "latitudes = df_seattle[(df_seattle.citation_issued == True)].lat\n",
    "longitudes = df_seattle[(df_seattle.citation_issued == True)].lng\n",
    "\n",
    "# Creating the location we would like to initialize the focus on. \n",
    "# Parameters: Lattitude, Longitude, Zoom\n",
    "gmap = gmplot.GoogleMapPlotter(47.596971, -122.327652, 12)\n",
    "\n",
    "# Overlay our datapoints onto the map\n",
    "gmap.heatmap(latitudes, longitudes)\n",
    "\n",
    "# Input API Key here\n",
    "gmap.apikey = 'ENTER-API-KEY-HERE'\n",
    "\n",
    "# Generate the heatmap into an HTML file\n",
    "gmap.draw(home_directory + \"/results/my_heatmap.html\")"
   ]
  },
  {
   "cell_type": "markdown",
   "metadata": {},
   "source": [
    "### Creating a dataframe grouped by weekday and plotting histogram"
   ]
  },
  {
   "cell_type": "code",
   "execution_count": 33,
   "metadata": {},
   "outputs": [
    {
     "data": {
      "text/plain": [
       "Text(0.5, 1.0, 'Citations per Weekday')"
      ]
     },
     "execution_count": 33,
     "metadata": {},
     "output_type": "execute_result"
    },
    {
     "data": {
      "text/plain": [
       "Text(0, 0.5, 'Citations Issued')"
      ]
     },
     "execution_count": 33,
     "metadata": {},
     "output_type": "execute_result"
    },
    {
     "data": {
      "text/plain": [
       "Text(0.5, 0, 'Day')"
      ]
     },
     "execution_count": 33,
     "metadata": {},
     "output_type": "execute_result"
    },
    {
     "data": {
      "image/png": "[encoded data removed]",
      "text/plain": [
       "<Figure size 864x504 with 1 Axes>"
      ]
     },
     "metadata": {
      "needs_background": "light"
     },
     "output_type": "display_data"
    }
   ],
   "source": [
    "df_weekday = df_seattle[df_seattle.citation_issued == True].groupby(df_seattle.date.dt.weekday_name).count()\n",
    "df_weekday = df_weekday.reindex(index = ['Monday','Tuesday','Wednesday', 'Thursday', 'Friday', 'Saturday', 'Sunday'])\n",
    "ax = df_weekday.citation_issued.plot(kind='bar', color='blue')\n",
    "plt.title('Citations per Weekday')\n",
    "plt.ylabel('Citations Issued')\n",
    "plt.xlabel('Day')\n",
    "plt.savefig(home_directory + '/results/Citations_per_weekday.png')\n",
    "plt.show()"
   ]
  },
  {
   "cell_type": "markdown",
   "metadata": {},
   "source": [
    "### Creating an hourly time series for displaying common hours for traffic stops"
   ]
  },
  {
   "cell_type": "code",
   "execution_count": 34,
   "metadata": {
    "scrolled": true
   },
   "outputs": [
    {
     "data": {
      "text/html": [
       "<div>\n",
       "<style scoped>\n",
       "    .dataframe tbody tr th:only-of-type {\n",
       "        vertical-align: middle;\n",
       "    }\n",
       "\n",
       "    .dataframe tbody tr th {\n",
       "        vertical-align: top;\n",
       "    }\n",
       "\n",
       "    .dataframe thead th {\n",
       "        text-align: right;\n",
       "    }\n",
       "</style>\n",
       "<table border=\"1\" class=\"dataframe\">\n",
       "  <thead>\n",
       "    <tr style=\"text-align: right;\">\n",
       "      <th></th>\n",
       "      <th>date</th>\n",
       "      <th>lat</th>\n",
       "      <th>lng</th>\n",
       "      <th>officer_id_hash</th>\n",
       "      <th>type</th>\n",
       "      <th>citation_issued</th>\n",
       "      <th>warning_issued</th>\n",
       "      <th>outcome</th>\n",
       "      <th>raw_type_description</th>\n",
       "    </tr>\n",
       "    <tr>\n",
       "      <th>time</th>\n",
       "      <th></th>\n",
       "      <th></th>\n",
       "      <th></th>\n",
       "      <th></th>\n",
       "      <th></th>\n",
       "      <th></th>\n",
       "      <th></th>\n",
       "      <th></th>\n",
       "      <th></th>\n",
       "    </tr>\n",
       "  </thead>\n",
       "  <tbody>\n",
       "    <tr>\n",
       "      <th>1900-01-01 00:00:00</th>\n",
       "      <td>864</td>\n",
       "      <td>864</td>\n",
       "      <td>864</td>\n",
       "      <td>864</td>\n",
       "      <td>864</td>\n",
       "      <td>864</td>\n",
       "      <td>864</td>\n",
       "      <td>864</td>\n",
       "      <td>864</td>\n",
       "    </tr>\n",
       "    <tr>\n",
       "      <th>1900-01-01 01:00:00</th>\n",
       "      <td>674</td>\n",
       "      <td>674</td>\n",
       "      <td>674</td>\n",
       "      <td>674</td>\n",
       "      <td>674</td>\n",
       "      <td>674</td>\n",
       "      <td>674</td>\n",
       "      <td>674</td>\n",
       "      <td>674</td>\n",
       "    </tr>\n",
       "    <tr>\n",
       "      <th>1900-01-01 02:00:00</th>\n",
       "      <td>417</td>\n",
       "      <td>417</td>\n",
       "      <td>417</td>\n",
       "      <td>417</td>\n",
       "      <td>417</td>\n",
       "      <td>417</td>\n",
       "      <td>417</td>\n",
       "      <td>417</td>\n",
       "      <td>417</td>\n",
       "    </tr>\n",
       "    <tr>\n",
       "      <th>1900-01-01 03:00:00</th>\n",
       "      <td>149</td>\n",
       "      <td>149</td>\n",
       "      <td>149</td>\n",
       "      <td>149</td>\n",
       "      <td>149</td>\n",
       "      <td>149</td>\n",
       "      <td>149</td>\n",
       "      <td>149</td>\n",
       "      <td>148</td>\n",
       "    </tr>\n",
       "    <tr>\n",
       "      <th>1900-01-01 04:00:00</th>\n",
       "      <td>411</td>\n",
       "      <td>411</td>\n",
       "      <td>411</td>\n",
       "      <td>411</td>\n",
       "      <td>411</td>\n",
       "      <td>411</td>\n",
       "      <td>411</td>\n",
       "      <td>411</td>\n",
       "      <td>411</td>\n",
       "    </tr>\n",
       "  </tbody>\n",
       "</table>\n",
       "</div>"
      ],
      "text/plain": [
       "                     date  lat  lng  officer_id_hash  type  citation_issued  \\\n",
       "time                                                                          \n",
       "1900-01-01 00:00:00   864  864  864              864   864              864   \n",
       "1900-01-01 01:00:00   674  674  674              674   674              674   \n",
       "1900-01-01 02:00:00   417  417  417              417   417              417   \n",
       "1900-01-01 03:00:00   149  149  149              149   149              149   \n",
       "1900-01-01 04:00:00   411  411  411              411   411              411   \n",
       "\n",
       "                     warning_issued  outcome  raw_type_description  \n",
       "time                                                                \n",
       "1900-01-01 00:00:00             864      864                   864  \n",
       "1900-01-01 01:00:00             674      674                   674  \n",
       "1900-01-01 02:00:00             417      417                   417  \n",
       "1900-01-01 03:00:00             149      149                   148  \n",
       "1900-01-01 04:00:00             411      411                   411  "
      ]
     },
     "execution_count": 34,
     "metadata": {},
     "output_type": "execute_result"
    }
   ],
   "source": [
    "hourly_timeseries = df_seattle[df_seattle.citation_issued == True].groupby(pd.Grouper(key='time', freq='60min')).count()\n",
    "hourly_timeseries.head()"
   ]
  },
  {
   "cell_type": "code",
   "execution_count": 35,
   "metadata": {},
   "outputs": [
    {
     "data": {
      "text/plain": [
       "Text(0.5, 1.0, 'Citations per hour')"
      ]
     },
     "execution_count": 35,
     "metadata": {},
     "output_type": "execute_result"
    },
    {
     "data": {
      "text/plain": [
       "Text(0, 0.5, 'Citations')"
      ]
     },
     "execution_count": 35,
     "metadata": {},
     "output_type": "execute_result"
    },
    {
     "data": {
      "image/png": "[encoded data removed]",
      "text/plain": [
       "<Figure size 864x504 with 1 Axes>"
      ]
     },
     "metadata": {
      "needs_background": "light"
     },
     "output_type": "display_data"
    }
   ],
   "source": [
    "ax = hourly_timeseries.citation_issued.plot(kind='bar', color='blue')\n",
    "ticklabels = hourly_timeseries.index.strftime('%H:%Mh')\n",
    "ax.xaxis.set_major_formatter(matplotlib.ticker.FixedFormatter(ticklabels))\n",
    "plt.title('Citations per hour')\n",
    "plt.ylabel('Citations')\n",
    "plt.savefig(home_directory + '/results/Citations_per_hour.png')\n",
    "plt.show()"
   ]
  },
  {
   "cell_type": "markdown",
   "metadata": {},
   "source": [
    "The most common times are from 1pm to 3pm and from 8pm to 1am. "
   ]
  }
 ],
 "metadata": {
  "kernelspec": {
   "display_name": "Python 3",
   "language": "python",
   "name": "python3"
  },
  "language_info": {
   "codemirror_mode": {
    "name": "ipython",
    "version": 3
   },
   "file_extension": ".py",
   "mimetype": "text/x-python",
   "name": "python",
   "nbconvert_exporter": "python",
   "pygments_lexer": "ipython3",
   "version": "3.7.3"
  }
 },
 "nbformat": 4,
 "nbformat_minor": 2
}
